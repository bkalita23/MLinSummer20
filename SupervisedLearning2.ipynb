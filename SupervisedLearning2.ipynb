{
 "cells": [
  {
   "cell_type": "markdown",
   "metadata": {},
   "source": [
    "# Supervised Machine Learning\n",
    "### Linear Regression, Kernel-Ridge Regression and Support Vector Regression"
   ]
  },
  {
   "cell_type": "code",
   "execution_count": 1,
   "metadata": {},
   "outputs": [],
   "source": [
    "import matplotlib.pyplot as plt\n",
    "import numpy as np\n",
    "import pandas as pd"
   ]
  },
  {
   "cell_type": "code",
   "execution_count": 2,
   "metadata": {},
   "outputs": [],
   "source": [
    "import scipy.linalg"
   ]
  },
  {
   "cell_type": "code",
   "execution_count": 3,
   "metadata": {},
   "outputs": [],
   "source": [
    "from sklearn import linear_model\n",
    "from sklearn import model_selection, neighbors, tree, ensemble"
   ]
  },
  {
   "cell_type": "markdown",
   "metadata": {},
   "source": [
    "The sklearn supervised learning functions are organized into several modules:\n",
    " - [linear_model](http://scikit-learn.org/stable/modules/linear_model.html): regression with [generalized linear models](https://en.wikipedia.org/wiki/Generalized_linear_model).\n",
    " - [kernel_ridge](http://scikit-learn.org/stable/modules/kernel_ridge.html): ridge regression using the kernel trick.\n",
    " - [svm](http://scikit-learn.org/stable/modules/svm.html): regression, classification (and outlier detection) with [support vector machines](https://en.wikipedia.org/wiki/Support_vector_machine).\n",
    " - [tree](http://scikit-learn.org/stable/modules/tree.html): regression and classification using [decision trees](https://en.wikipedia.org/wiki/Decision_tree).\n",
    " - [discriminant_analysis](http://scikit-learn.org/stable/modules/lda_qda.html): classification using [linear](https://en.wikipedia.org/wiki/Linear_discriminant_analysis) and [quadratic](https://en.wikipedia.org/wiki/Quadratic_classifier) discriminant analysis.\n",
    " - [ensemble](http://scikit-learn.org/stable/modules/ensemble.html): regression, classification (and anomaly detection) using [ensemble methods](https://en.wikipedia.org/wiki/Ensemble_learning).\n",
    " - [gaussian_process](http://scikit-learn.org/stable/modules/gaussian_process.html): regression and classification using [Gaussian processes](https://en.wikipedia.org/wiki/Gaussian_process).\n",
    " - [naive_bayes](http://scikit-learn.org/stable/modules/naive_bayes.html): Bayesian classification with [oversimplified assumptions](https://en.wikipedia.org/wiki/Naive_Bayes_classifier).\n"
   ]
  },
  {
   "cell_type": "markdown",
   "metadata": {},
   "source": [
    "### Linear Regression"
   ]
  },
  {
   "cell_type": "markdown",
   "metadata": {},
   "source": [
    "A standard linear regression assumes the observed data $D = (X,Y)$ is explained by the model,\n",
    "$$\n",
    "Y = X W + \\delta Y \\; ,\n",
    "$$\n",
    "where, in general, all quantities are matrices, the model parameters are the elements of $W$, and $\\delta Y$ is the \"noise\" inherent in $Y$."
   ]
  },
  {
   "cell_type": "markdown",
   "metadata": {},
   "source": [
    "#### Example: fitting a line"
   ]
  },
  {
   "cell_type": "markdown",
   "metadata": {},
   "source": [
    "Let us generate a random dataset for linear regression with added noise,\n"
   ]
  },
  {
   "cell_type": "code",
   "execution_count": 4,
   "metadata": {},
   "outputs": [
    {
     "data": {
      "image/png": "[encoded data removed]",
      "text/plain": [
       "<Figure size 432x288 with 1 Axes>"
      ]
     },
     "metadata": {
      "needs_background": "light"
     },
     "output_type": "display_data"
    }
   ],
   "source": [
    "from sklearn.datasets import make_regression\n",
    "gen = np.random.RandomState(seed=123)\n",
    "# generate regression dataset\n",
    "X, y = make_regression(n_samples=100, n_features=1, noise=10, random_state=gen)\n",
    "#No. of sample and noise can be changed \n",
    "plt.scatter(X,y)\n",
    "plt.show()"
   ]
  },
  {
   "cell_type": "markdown",
   "metadata": {},
   "source": [
    "More options can be specified to characterize the data using [make_regression](https://scikit-learn.org/stable/modules/generated/sklearn.datasets.make_regression.html).\n",
    "\n",
    "We can create these samples in a number of ways. Let us split the data into training set and test set, "
   ]
  },
  {
   "cell_type": "code",
   "execution_count": 5,
   "metadata": {},
   "outputs": [],
   "source": [
    "# Let us take the first 80 samples to train, and the last 10 to test\n",
    "X_train = X[:-20]\n",
    "y_train = y[:-20]\n",
    "\n",
    "X_test = X[-20:]\n",
    "y_test = y[-20:]"
   ]
  },
  {
   "cell_type": "markdown",
   "metadata": {},
   "source": [
    "The `LinearRegression` function solves the [linear least squares problem](https://en.wikipedia.org/wiki/Linear_least_squares_%28mathematics%29) by minimizing sum of squared residuals\n",
    "$$\n",
    "S \\equiv \\sum_{i=1}^N \\left| Y_i - (X W)_i \\right|^2\n",
    "$$\n",
    "with respect to the model parameters (elements of $W$), where $i$ indexes the $N$ samples in the dataset. The syntax will be familiar from the sklearn functions we used earlier:"
   ]
  },
  {
   "cell_type": "code",
   "execution_count": 6,
   "metadata": {},
   "outputs": [],
   "source": [
    "fit = linear_model.LinearRegression(fit_intercept=True).fit(X_train, y_train)"
   ]
  },
  {
   "cell_type": "markdown",
   "metadata": {},
   "source": [
    "`LinearRegression` will automatically calculate and subtract any non-zero mean of $y$ when `fit_intercept` is `True`.\n",
    "\n",
    "The resulting $W$ matrix has only a single element, the slope of the line (which is assumed to pass through the origin):"
   ]
  },
  {
   "cell_type": "code",
   "execution_count": 7,
   "metadata": {},
   "outputs": [
    {
     "name": "stdout",
     "output_type": "stream",
     "text": [
      "Coefficient: \n",
      " [34.40608015]\n",
      "Intercept:\n",
      "  0.3686128385314409\n"
     ]
    }
   ],
   "source": [
    "W = fit.coef_\n",
    "y0 = fit.intercept_\n",
    "print('Coefficient: \\n', W)\n",
    "print('Intercept:\\n ', y0)"
   ]
  },
  {
   "cell_type": "markdown",
   "metadata": {},
   "source": [
    "We then use the model to make predictions based on the test values of x\n"
   ]
  },
  {
   "cell_type": "code",
   "execution_count": 8,
   "metadata": {},
   "outputs": [],
   "source": [
    "y_pred = fit.predict(X_test)"
   ]
  },
  {
   "cell_type": "markdown",
   "metadata": {},
   "source": [
    "Now, we can calculate the models accuracy metrics based on what the actual value of y was"
   ]
  },
  {
   "cell_type": "code",
   "execution_count": 9,
   "metadata": {},
   "outputs": [
    {
     "name": "stdout",
     "output_type": "stream",
     "text": [
      "Mean squared error: 108.06\n",
      "r_2 statistic: 0.95\n"
     ]
    }
   ],
   "source": [
    "from sklearn.metrics import mean_squared_error, r2_score\n",
    "print(\"Mean squared error: %.2f\"\n",
    "      % mean_squared_error(y_test, y_pred))\n",
    "print('r_2 statistic: %.2f' % r2_score(y_test, y_pred))"
   ]
  },
  {
   "cell_type": "code",
   "execution_count": 10,
   "metadata": {},
   "outputs": [
    {
     "data": {
      "image/png": "[encoded data removed]",
      "text/plain": [
       "<Figure size 432x288 with 1 Axes>"
      ]
     },
     "metadata": {
      "needs_background": "light"
     },
     "output_type": "display_data"
    }
   ],
   "source": [
    "plt.scatter(X_train, y_train, label='train')\n",
    "plt.plot(X_train, X_train.dot(W) + y0, 'r-', lw=4, alpha=0.5, label='fit')\n",
    "plt.scatter(X_test, y_test, c='green', label='test', lw=1)\n",
    "plt.legend(fontsize='x-large')\n",
    "plt.xlabel('$X$')\n",
    "plt.ylabel('$y$')\n",
    "plt.show()\n",
    "#plt.xlim(-1., +1.);\n"
   ]
  },
  {
   "cell_type": "markdown",
   "metadata": {},
   "source": [
    "#### Example: basis function linear regression\n",
    "\n",
    "Taken from **Phys 247** taught by Prof. D. Kirkby"
   ]
  },
  {
   "cell_type": "markdown",
   "metadata": {},
   "source": [
    "For our final example, we will see how \"linear\" regression can solve problems that appear quite nonlinear. Suppose our model is\n",
    "$$\n",
    "Y = a X e^{-X^2} + b \\sin X^2 + \\delta Y\n",
    "$$\n",
    "with unknown parameters $a$ and $b$:"
   ]
  },
  {
   "cell_type": "code",
   "execution_count": 11,
   "metadata": {},
   "outputs": [
    {
     "data": {
      "image/png": "[encoded data removed]",
      "text/plain": [
       "<Figure size 432x288 with 1 Axes>"
      ]
     },
     "metadata": {
      "needs_background": "light"
     },
     "output_type": "display_data"
    }
   ],
   "source": [
    "def generate(N=100, xlo=-2, xhi=2, a=1, b=-1, seed=123):\n",
    "    gen = np.random.RandomState(seed=seed)\n",
    "    X1 = gen.uniform(xlo, xhi, N)\n",
    "    y1 = a * X1 * np.exp(-X ** 2) + b * np.sin(X ** 2)\n",
    "    plt.plot(X1, y1, 'r.')\n",
    "    return X1, y1\n",
    "\n",
    "X1, y1 = generate()"
   ]
  },
  {
   "cell_type": "markdown",
   "metadata": {},
   "source": [
    "If we replace the $N\\times 1$ dataset $X$ with a $N\\times 2$ dataset $Z$ of new features $(Z_1, Z_2)$:\n",
    "$$\n",
    "Z_1 = X e^{-X^2}  \\quad, \\quad Z_2 = \\sin X^2 \\; ,\n",
    "$$\n",
    "the transformed model is now linear:\n",
    "$$\n",
    "Y = X W\n",
    "$$\n",
    "with\n",
    "$$\n",
    "W = \\begin{bmatrix}\n",
    "a \\\\ b\n",
    "\\end{bmatrix} \\; .\n",
    "$$\n",
    "The new features $Z_1$ and $Z_2$ are known as \"basis functions\" and this approach is called \"basis function regression\".  Sklearn has built-in support for [polynomial basis functions](http://scikit-learn.org/stable/modules/linear_model.html#polynomial-regression-extending-linear-models-with-basis-functions) but it is easy to apply the transformations yourself for arbitrary basis functions:"
   ]
  },
  {
   "cell_type": "code",
   "execution_count": 12,
   "metadata": {},
   "outputs": [
    {
     "data": {
      "text/plain": [
       "(100, 2)"
      ]
     },
     "execution_count": 12,
     "metadata": {},
     "output_type": "execute_result"
    }
   ],
   "source": [
    "Z = np.stack([X1 * np.exp(-X1 ** 2), np.sin(X1 ** 2)], axis=1)\n",
    "Z.shape"
   ]
  },
  {
   "cell_type": "code",
   "execution_count": 13,
   "metadata": {},
   "outputs": [
    {
     "name": "stdout",
     "output_type": "stream",
     "text": [
      "[[-2.27752775e-01  1.06321943e-02]\n",
      " [-1.62385929e-01 -1.12471418e+00]\n",
      " [-1.52941182e-01 -1.28875850e+00]\n",
      " [-2.04629216e-01 -3.90997227e-01]\n",
      " [-2.31416714e-01  7.42705613e-02]\n",
      " [-1.84205226e-01 -7.45738270e-01]\n",
      " [-2.73041872e-01  7.97251330e-01]\n",
      " [-2.25898574e-01 -2.15731253e-02]\n",
      " [-1.93417002e-01 -5.85740392e-01]\n",
      " [-1.79268590e-01 -8.31481929e-01]\n",
      " [-1.71472372e-01 -9.66893199e-01]\n",
      " [-2.32942955e-01  1.00779614e-01]\n",
      " [-1.86668975e-01 -7.02945813e-01]\n",
      " [-1.26309904e-01 -1.75131294e+00]\n",
      " [-1.80212738e-01 -8.15083172e-01]\n",
      " [-2.34368034e-01  1.25531570e-01]\n",
      " [-1.45874537e-01 -1.41149793e+00]\n",
      " [-1.44753047e-01 -1.43097691e+00]\n",
      " [-2.01480845e-01 -4.45680793e-01]\n",
      " [-2.01524847e-01 -4.44916535e-01]\n",
      " [-2.17865110e-01 -1.61105096e-01]\n",
      " [-2.52120204e-01  4.33866192e-01]\n",
      " [-2.32211056e-01  8.80673644e-02]\n",
      " [-2.14141008e-01 -2.25788425e-01]\n",
      " [-2.31890547e-01  8.25004982e-02]\n",
      " [-1.68251405e-01 -1.02283767e+00]\n",
      " [-1.74437106e-01 -9.15399207e-01]\n",
      " [-1.53166082e-01 -1.28485224e+00]\n",
      " [-1.63592605e-01 -1.10375563e+00]\n",
      " [-2.17319523e-01 -1.70581310e-01]\n",
      " [-1.31475635e-01 -1.66159018e+00]\n",
      " [-1.85892998e-01 -7.16423638e-01]\n",
      " [-1.85440830e-01 -7.24277265e-01]\n",
      " [-1.95448627e-01 -5.50453427e-01]\n",
      " [-1.84639141e-01 -7.38201673e-01]\n",
      " [-1.66547229e-01 -1.05243723e+00]\n",
      " [-1.84722141e-01 -7.36760066e-01]\n",
      " [-2.59122752e-01  5.55492341e-01]\n",
      " [-2.67210710e-01  6.95970803e-01]\n",
      " [-1.96747199e-01 -5.27898732e-01]\n",
      " [-2.16200709e-01 -1.90013806e-01]\n",
      " [-1.35221403e-01 -1.59653053e+00]\n",
      " [-1.67347609e-01 -1.03853555e+00]\n",
      " [-1.82886157e-01 -7.68648983e-01]\n",
      " [-2.54808821e-01  4.80564364e-01]\n",
      " [-1.56701360e-01 -1.22344857e+00]\n",
      " [-1.93751916e-01 -5.79923340e-01]\n",
      " [-2.73805824e-01  8.10520295e-01]\n",
      " [-1.99558652e-01 -4.79067051e-01]\n",
      " [-2.14439067e-01 -2.20611492e-01]\n",
      " [-1.36019555e-01 -1.58266755e+00]\n",
      " [-2.48441735e-01  3.69975457e-01]\n",
      " [-2.12872416e-01 -2.47822399e-01]\n",
      " [-2.03634087e-01 -4.08281467e-01]\n",
      " [-1.71406391e-01 -9.68039205e-01]\n",
      " [-1.65250432e-01 -1.07496109e+00]\n",
      " [-1.83235986e-01 -7.62572848e-01]\n",
      " [-2.25336398e-01 -3.13374806e-02]\n",
      " [-2.56266076e-01  5.05875196e-01]\n",
      " [-1.98114922e-01 -5.04142966e-01]\n",
      " [-2.23426833e-01 -6.45044010e-02]\n",
      " [-2.10144576e-01 -2.95201817e-01]\n",
      " [-2.16352135e-01 -1.87383717e-01]\n",
      " [-2.24283131e-01 -4.96315102e-02]\n",
      " [-2.50990847e-01  4.14250570e-01]\n",
      " [-1.30056251e-01 -1.68624322e+00]\n",
      " [-2.38460124e-01  1.96606431e-01]\n",
      " [-1.55619852e-01 -1.24223310e+00]\n",
      " [-1.47743359e-01 -1.37903865e+00]\n",
      " [-2.07997234e-01 -3.32498664e-01]\n",
      " [-1.32050333e-01 -1.65160833e+00]\n",
      " [-2.57838396e-01  5.33184569e-01]\n",
      " [-2.16725776e-01 -1.80894009e-01]\n",
      " [-2.32045545e-01  8.51926356e-02]\n",
      " [-1.19372460e-01 -1.87180831e+00]\n",
      " [-2.11497909e-01 -2.71696000e-01]\n",
      " [-2.05500672e-01 -3.75861050e-01]\n",
      " [-1.42125801e-01 -1.47660913e+00]\n",
      " [-1.41187644e-01 -1.49290383e+00]\n",
      " [-2.27603085e-01  8.03224708e-03]\n",
      " [-1.67583528e-01 -1.03443791e+00]\n",
      " [-2.27036088e-01 -1.81583624e-03]\n",
      " [-2.05118035e-01 -3.82507013e-01]\n",
      " [-1.78764085e-01 -8.40244583e-01]\n",
      " [-2.64179564e-01  6.43323316e-01]\n",
      " [-2.50883725e-01  4.12389986e-01]\n",
      " [-1.73737591e-01 -9.27548962e-01]\n",
      " [-1.23747284e-01 -1.79582267e+00]\n",
      " [-1.65353546e-01 -1.07317011e+00]\n",
      " [-1.80235267e-01 -8.14691857e-01]\n",
      " [-2.29105202e-01  3.41222902e-02]\n",
      " [-2.75366787e-01  8.37632421e-01]\n",
      " [-1.73501392e-01 -9.31651464e-01]\n",
      " [-2.38279310e-01  1.93465909e-01]\n",
      " [-2.11297989e-01 -2.75168371e-01]\n",
      " [-2.26993315e-01 -2.55874321e-03]\n",
      " [-1.40878108e-01 -1.49828011e+00]\n",
      " [-1.80345284e-01 -8.12780998e-01]\n",
      " [-1.55172134e-01 -1.25000944e+00]\n",
      " [-1.71516658e-01 -9.66124004e-01]]\n"
     ]
    }
   ],
   "source": [
    "fit = linear_model.LinearRegression(fit_intercept=False).fit(Z, y1)\n",
    "print(fit.coef_)"
   ]
  },
  {
   "cell_type": "markdown",
   "metadata": {},
   "source": [
    "### Multivariate Regression\n",
    "\n",
    "**Coming soon**"
   ]
  },
  {
   "cell_type": "markdown",
   "metadata": {},
   "source": [
    "### Kernel Ridge Regression"
   ]
  },
  {
   "cell_type": "code",
   "execution_count": null,
   "metadata": {},
   "outputs": [],
   "source": []
  },
  {
   "cell_type": "markdown",
   "metadata": {},
   "source": [
    "### Support Vector Machines"
   ]
  },
  {
   "cell_type": "code",
   "execution_count": null,
   "metadata": {},
   "outputs": [],
   "source": []
  },
  {
   "cell_type": "markdown",
   "metadata": {},
   "source": [
    "### Gaussian Process Regression"
   ]
  },
  {
   "cell_type": "code",
   "execution_count": null,
   "metadata": {},
   "outputs": [],
   "source": []
  }
 ],
 "metadata": {
  "kernelspec": {
   "display_name": "Python 3",
   "language": "python",
   "name": "python3"
  },
  "language_info": {
   "codemirror_mode": {
    "name": "ipython",
    "version": 3
   },
   "file_extension": ".py",
   "mimetype": "text/x-python",
   "name": "python",
   "nbconvert_exporter": "python",
   "pygments_lexer": "ipython3",
   "version": "3.7.3"
  }
 },
 "nbformat": 4,
 "nbformat_minor": 2
}
