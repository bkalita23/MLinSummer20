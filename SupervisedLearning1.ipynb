{
 "cells": [
  {
   "cell_type": "markdown",
   "metadata": {},
   "source": [
    "## Supervised Machine Learning\n",
    "### Nearest Neighbor Regression, Decision Trees and Random Forests"
   ]
  },
  {
   "cell_type": "markdown",
   "metadata": {},
   "source": [
    "The work in this notebook utilizes materials introduced in **Phys 247**, taught by Prof. D. Kirkby.\n",
    "\n",
    "In this notebook, we will discuss some of the elementary algorithms available for a supervised learning problem. But before explorings these algorithms, let us import the libraries that we will be using. "
   ]
  },
  {
   "cell_type": "code",
   "execution_count": 29,
   "metadata": {},
   "outputs": [],
   "source": [
    "import matplotlib.pyplot as plt\n",
    "import seaborn as sns; sns.set()\n",
    "import numpy as np\n",
    "import pandas as pd"
   ]
  },
  {
   "cell_type": "markdown",
   "metadata": {},
   "source": [
    "The regression algorothims can be implimented using specific peckages from scikit-learn."
   ]
  },
  {
   "cell_type": "code",
   "execution_count": 30,
   "metadata": {},
   "outputs": [],
   "source": [
    "from sklearn import model_selection, neighbors, tree, ensemble"
   ]
  },
  {
   "cell_type": "markdown",
   "metadata": {},
   "source": [
    "#### Importing Data"
   ]
  },
  {
   "cell_type": "markdown",
   "metadata": {},
   "source": [
    "The data used here, has been collected from \"https://archive.ics.uci.edu/ml/datasets/Superconductivty+Data\" in UCI Machine Learning Repository and is tailored for regression task.\n",
    "The data set had 81 features for 21263 superconductors. For convinience, only 5000 superconductors are considered here. "
   ]
  },
  {
   "cell_type": "code",
   "execution_count": 89,
   "metadata": {},
   "outputs": [],
   "source": [
    "def load_data():\n",
    "    sc_data=pd.read_csv(\"train.csv\")\n",
    "    return sc_data.iloc[0:5000] #change to increase or decrease data set size"
   ]
  },
  {
   "cell_type": "code",
   "execution_count": 90,
   "metadata": {},
   "outputs": [],
   "source": [
    "df = load_data()\n",
    "N, D = df.shape"
   ]
  },
  {
   "cell_type": "markdown",
   "metadata": {},
   "source": [
    "For convenience, we will further reduce the number of features to 30. The last column, the critical temperature has been considered as the label(value to be predicted)"
   ]
  },
  {
   "cell_type": "code",
   "execution_count": 91,
   "metadata": {},
   "outputs": [],
   "source": [
    "X = df.iloc[:, :30] #features\n",
    "Y = df.iloc[:, -1]  #label"
   ]
  },
  {
   "cell_type": "code",
   "execution_count": 92,
   "metadata": {},
   "outputs": [
    {
     "data": {
      "text/html": [
       "<div>\n",
       "<style scoped>\n",
       "    .dataframe tbody tr th:only-of-type {\n",
       "        vertical-align: middle;\n",
       "    }\n",
       "\n",
       "    .dataframe tbody tr th {\n",
       "        vertical-align: top;\n",
       "    }\n",
       "\n",
       "    .dataframe thead th {\n",
       "        text-align: right;\n",
       "    }\n",
       "</style>\n",
       "<table border=\"1\" class=\"dataframe\">\n",
       "  <thead>\n",
       "    <tr style=\"text-align: right;\">\n",
       "      <th></th>\n",
       "      <th>number_of_elements</th>\n",
       "      <th>mean_atomic_mass</th>\n",
       "      <th>wtd_mean_atomic_mass</th>\n",
       "      <th>gmean_atomic_mass</th>\n",
       "      <th>wtd_gmean_atomic_mass</th>\n",
       "      <th>entropy_atomic_mass</th>\n",
       "      <th>wtd_entropy_atomic_mass</th>\n",
       "      <th>range_atomic_mass</th>\n",
       "      <th>wtd_range_atomic_mass</th>\n",
       "      <th>std_atomic_mass</th>\n",
       "      <th>...</th>\n",
       "      <th>wtd_std_fie</th>\n",
       "      <th>mean_atomic_radius</th>\n",
       "      <th>wtd_mean_atomic_radius</th>\n",
       "      <th>gmean_atomic_radius</th>\n",
       "      <th>wtd_gmean_atomic_radius</th>\n",
       "      <th>entropy_atomic_radius</th>\n",
       "      <th>wtd_entropy_atomic_radius</th>\n",
       "      <th>range_atomic_radius</th>\n",
       "      <th>wtd_range_atomic_radius</th>\n",
       "      <th>std_atomic_radius</th>\n",
       "    </tr>\n",
       "  </thead>\n",
       "  <tbody>\n",
       "    <tr>\n",
       "      <th>count</th>\n",
       "      <td>5000.000000</td>\n",
       "      <td>5000.000000</td>\n",
       "      <td>5000.000000</td>\n",
       "      <td>5000.000000</td>\n",
       "      <td>5000.000000</td>\n",
       "      <td>5000.000000</td>\n",
       "      <td>5000.000000</td>\n",
       "      <td>5000.000000</td>\n",
       "      <td>5000.000000</td>\n",
       "      <td>5000.000000</td>\n",
       "      <td>...</td>\n",
       "      <td>5000.000000</td>\n",
       "      <td>5000.000000</td>\n",
       "      <td>5000.000000</td>\n",
       "      <td>5000.000000</td>\n",
       "      <td>5000.000000</td>\n",
       "      <td>5000.000000</td>\n",
       "      <td>5000.000000</td>\n",
       "      <td>5000.000000</td>\n",
       "      <td>5000.000000</td>\n",
       "      <td>5000.000000</td>\n",
       "    </tr>\n",
       "    <tr>\n",
       "      <th>mean</th>\n",
       "      <td>5.027400</td>\n",
       "      <td>85.215996</td>\n",
       "      <td>61.735312</td>\n",
       "      <td>64.357706</td>\n",
       "      <td>42.739795</td>\n",
       "      <td>1.386456</td>\n",
       "      <td>1.336510</td>\n",
       "      <td>146.688969</td>\n",
       "      <td>23.946253</td>\n",
       "      <td>53.174057</td>\n",
       "      <td>...</td>\n",
       "      <td>322.016564</td>\n",
       "      <td>161.432837</td>\n",
       "      <td>122.388962</td>\n",
       "      <td>140.843430</td>\n",
       "      <td>101.043759</td>\n",
       "      <td>1.494114</td>\n",
       "      <td>1.407784</td>\n",
       "      <td>192.814200</td>\n",
       "      <td>36.817395</td>\n",
       "      <td>68.037110</td>\n",
       "    </tr>\n",
       "    <tr>\n",
       "      <th>std</th>\n",
       "      <td>0.869943</td>\n",
       "      <td>14.421504</td>\n",
       "      <td>16.205354</td>\n",
       "      <td>10.412137</td>\n",
       "      <td>14.953024</td>\n",
       "      <td>0.182814</td>\n",
       "      <td>0.199781</td>\n",
       "      <td>33.627590</td>\n",
       "      <td>11.485461</td>\n",
       "      <td>12.310531</td>\n",
       "      <td>...</td>\n",
       "      <td>46.249699</td>\n",
       "      <td>11.320043</td>\n",
       "      <td>22.748854</td>\n",
       "      <td>10.063538</td>\n",
       "      <td>25.420305</td>\n",
       "      <td>0.195505</td>\n",
       "      <td>0.180166</td>\n",
       "      <td>17.103525</td>\n",
       "      <td>15.799566</td>\n",
       "      <td>8.654762</td>\n",
       "    </tr>\n",
       "    <tr>\n",
       "      <th>min</th>\n",
       "      <td>2.000000</td>\n",
       "      <td>16.335723</td>\n",
       "      <td>12.219975</td>\n",
       "      <td>15.696865</td>\n",
       "      <td>12.167268</td>\n",
       "      <td>0.240242</td>\n",
       "      <td>0.040647</td>\n",
       "      <td>10.979069</td>\n",
       "      <td>1.565455</td>\n",
       "      <td>4.775162</td>\n",
       "      <td>...</td>\n",
       "      <td>84.884560</td>\n",
       "      <td>104.333333</td>\n",
       "      <td>68.806452</td>\n",
       "      <td>86.890698</td>\n",
       "      <td>65.136467</td>\n",
       "      <td>0.476751</td>\n",
       "      <td>0.053335</td>\n",
       "      <td>128.000000</td>\n",
       "      <td>3.400000</td>\n",
       "      <td>49.557223</td>\n",
       "    </tr>\n",
       "    <tr>\n",
       "      <th>25%</th>\n",
       "      <td>4.000000</td>\n",
       "      <td>76.444563</td>\n",
       "      <td>51.388303</td>\n",
       "      <td>59.356672</td>\n",
       "      <td>34.942820</td>\n",
       "      <td>1.199541</td>\n",
       "      <td>1.261016</td>\n",
       "      <td>121.327600</td>\n",
       "      <td>14.715694</td>\n",
       "      <td>43.823354</td>\n",
       "      <td>...</td>\n",
       "      <td>330.927160</td>\n",
       "      <td>152.666667</td>\n",
       "      <td>108.551606</td>\n",
       "      <td>136.126003</td>\n",
       "      <td>87.120521</td>\n",
       "      <td>1.275274</td>\n",
       "      <td>1.335218</td>\n",
       "      <td>171.000000</td>\n",
       "      <td>24.191094</td>\n",
       "      <td>60.675366</td>\n",
       "    </tr>\n",
       "    <tr>\n",
       "      <th>50%</th>\n",
       "      <td>5.000000</td>\n",
       "      <td>84.567319</td>\n",
       "      <td>56.502908</td>\n",
       "      <td>64.570275</td>\n",
       "      <td>36.021417</td>\n",
       "      <td>1.429242</td>\n",
       "      <td>1.340132</td>\n",
       "      <td>128.242600</td>\n",
       "      <td>20.825477</td>\n",
       "      <td>51.930223</td>\n",
       "      <td>...</td>\n",
       "      <td>341.896911</td>\n",
       "      <td>162.000000</td>\n",
       "      <td>114.538462</td>\n",
       "      <td>140.945228</td>\n",
       "      <td>89.705371</td>\n",
       "      <td>1.505283</td>\n",
       "      <td>1.396337</td>\n",
       "      <td>205.000000</td>\n",
       "      <td>35.698297</td>\n",
       "      <td>69.424491</td>\n",
       "    </tr>\n",
       "    <tr>\n",
       "      <th>75%</th>\n",
       "      <td>6.000000</td>\n",
       "      <td>93.530600</td>\n",
       "      <td>68.826001</td>\n",
       "      <td>70.358975</td>\n",
       "      <td>39.709770</td>\n",
       "      <td>1.504344</td>\n",
       "      <td>1.453073</td>\n",
       "      <td>188.383900</td>\n",
       "      <td>31.920690</td>\n",
       "      <td>63.695003</td>\n",
       "      <td>...</td>\n",
       "      <td>345.964830</td>\n",
       "      <td>168.000000</td>\n",
       "      <td>117.503363</td>\n",
       "      <td>146.121197</td>\n",
       "      <td>92.873770</td>\n",
       "      <td>1.672203</td>\n",
       "      <td>1.542210</td>\n",
       "      <td>205.000000</td>\n",
       "      <td>45.800000</td>\n",
       "      <td>75.237540</td>\n",
       "    </tr>\n",
       "    <tr>\n",
       "      <th>max</th>\n",
       "      <td>8.000000</td>\n",
       "      <td>142.376700</td>\n",
       "      <td>152.464120</td>\n",
       "      <td>98.761740</td>\n",
       "      <td>137.387467</td>\n",
       "      <td>1.898379</td>\n",
       "      <td>1.958203</td>\n",
       "      <td>202.039400</td>\n",
       "      <td>137.643230</td>\n",
       "      <td>81.794265</td>\n",
       "      <td>...</td>\n",
       "      <td>477.813164</td>\n",
       "      <td>210.000000</td>\n",
       "      <td>243.160000</td>\n",
       "      <td>178.062569</td>\n",
       "      <td>237.911356</td>\n",
       "      <td>2.014673</td>\n",
       "      <td>1.903748</td>\n",
       "      <td>250.000000</td>\n",
       "      <td>240.164344</td>\n",
       "      <td>115.500000</td>\n",
       "    </tr>\n",
       "  </tbody>\n",
       "</table>\n",
       "<p>8 rows × 30 columns</p>\n",
       "</div>"
      ],
      "text/plain": [
       "       number_of_elements  mean_atomic_mass  wtd_mean_atomic_mass  \\\n",
       "count         5000.000000       5000.000000           5000.000000   \n",
       "mean             5.027400         85.215996             61.735312   \n",
       "std              0.869943         14.421504             16.205354   \n",
       "min              2.000000         16.335723             12.219975   \n",
       "25%              4.000000         76.444563             51.388303   \n",
       "50%              5.000000         84.567319             56.502908   \n",
       "75%              6.000000         93.530600             68.826001   \n",
       "max              8.000000        142.376700            152.464120   \n",
       "\n",
       "       gmean_atomic_mass  wtd_gmean_atomic_mass  entropy_atomic_mass  \\\n",
       "count        5000.000000            5000.000000          5000.000000   \n",
       "mean           64.357706              42.739795             1.386456   \n",
       "std            10.412137              14.953024             0.182814   \n",
       "min            15.696865              12.167268             0.240242   \n",
       "25%            59.356672              34.942820             1.199541   \n",
       "50%            64.570275              36.021417             1.429242   \n",
       "75%            70.358975              39.709770             1.504344   \n",
       "max            98.761740             137.387467             1.898379   \n",
       "\n",
       "       wtd_entropy_atomic_mass  range_atomic_mass  wtd_range_atomic_mass  \\\n",
       "count              5000.000000        5000.000000            5000.000000   \n",
       "mean                  1.336510         146.688969              23.946253   \n",
       "std                   0.199781          33.627590              11.485461   \n",
       "min                   0.040647          10.979069               1.565455   \n",
       "25%                   1.261016         121.327600              14.715694   \n",
       "50%                   1.340132         128.242600              20.825477   \n",
       "75%                   1.453073         188.383900              31.920690   \n",
       "max                   1.958203         202.039400             137.643230   \n",
       "\n",
       "       std_atomic_mass  ...  wtd_std_fie  mean_atomic_radius  \\\n",
       "count      5000.000000  ...  5000.000000         5000.000000   \n",
       "mean         53.174057  ...   322.016564          161.432837   \n",
       "std          12.310531  ...    46.249699           11.320043   \n",
       "min           4.775162  ...    84.884560          104.333333   \n",
       "25%          43.823354  ...   330.927160          152.666667   \n",
       "50%          51.930223  ...   341.896911          162.000000   \n",
       "75%          63.695003  ...   345.964830          168.000000   \n",
       "max          81.794265  ...   477.813164          210.000000   \n",
       "\n",
       "       wtd_mean_atomic_radius  gmean_atomic_radius  wtd_gmean_atomic_radius  \\\n",
       "count             5000.000000          5000.000000              5000.000000   \n",
       "mean               122.388962           140.843430               101.043759   \n",
       "std                 22.748854            10.063538                25.420305   \n",
       "min                 68.806452            86.890698                65.136467   \n",
       "25%                108.551606           136.126003                87.120521   \n",
       "50%                114.538462           140.945228                89.705371   \n",
       "75%                117.503363           146.121197                92.873770   \n",
       "max                243.160000           178.062569               237.911356   \n",
       "\n",
       "       entropy_atomic_radius  wtd_entropy_atomic_radius  range_atomic_radius  \\\n",
       "count            5000.000000                5000.000000          5000.000000   \n",
       "mean                1.494114                   1.407784           192.814200   \n",
       "std                 0.195505                   0.180166            17.103525   \n",
       "min                 0.476751                   0.053335           128.000000   \n",
       "25%                 1.275274                   1.335218           171.000000   \n",
       "50%                 1.505283                   1.396337           205.000000   \n",
       "75%                 1.672203                   1.542210           205.000000   \n",
       "max                 2.014673                   1.903748           250.000000   \n",
       "\n",
       "       wtd_range_atomic_radius  std_atomic_radius  \n",
       "count              5000.000000        5000.000000  \n",
       "mean                 36.817395          68.037110  \n",
       "std                  15.799566           8.654762  \n",
       "min                   3.400000          49.557223  \n",
       "25%                  24.191094          60.675366  \n",
       "50%                  35.698297          69.424491  \n",
       "75%                  45.800000          75.237540  \n",
       "max                 240.164344         115.500000  \n",
       "\n",
       "[8 rows x 30 columns]"
      ]
     },
     "execution_count": 92,
     "metadata": {},
     "output_type": "execute_result"
    }
   ],
   "source": [
    "X.describe() #The selected features and the properties of the data"
   ]
  },
  {
   "cell_type": "code",
   "execution_count": 93,
   "metadata": {},
   "outputs": [
    {
     "data": {
      "text/plain": [
       "count    5000.000000\n",
       "mean       62.068880\n",
       "std        30.620157\n",
       "min         0.001000\n",
       "25%        34.375000\n",
       "50%        67.040000\n",
       "75%        87.100000\n",
       "max       143.000000\n",
       "Name: critical_temp, dtype: float64"
      ]
     },
     "execution_count": 93,
     "metadata": {},
     "output_type": "execute_result"
    }
   ],
   "source": [
    "Y.describe()"
   ]
  },
  {
   "cell_type": "markdown",
   "metadata": {},
   "source": [
    "Now we will split the data set into test and training set. I will use a 3:1 division for training and test set. "
   ]
  },
  {
   "cell_type": "code",
   "execution_count": 94,
   "metadata": {},
   "outputs": [],
   "source": [
    "gen = np.random.RandomState(seed=123)\n",
    "X_train, X_test, Y_train, Y_test = model_selection.train_test_split(X, Y, test_size=0.25, random_state=gen)"
   ]
  },
  {
   "cell_type": "markdown",
   "metadata": {},
   "source": [
    "#### K-Nearest Neighbor Regression"
   ]
  },
  {
   "cell_type": "code",
   "execution_count": 95,
   "metadata": {},
   "outputs": [],
   "source": [
    "knn_fit = neighbors.KNeighborsRegressor(n_neighbors=5,n_jobs=3).fit(X_train, Y_train)\n",
    "#n_neighbors= hyperparameter, No. of neighbors to consider, default=5.\n",
    "#n_jobs = hyperparameter, No. of parallel jobs to run for neighor search,"
   ]
  },
  {
   "cell_type": "code",
   "execution_count": 96,
   "metadata": {},
   "outputs": [
    {
     "data": {
      "text/plain": [
       "(0.8323140796091031, 0.699636672649973)"
      ]
     },
     "execution_count": 96,
     "metadata": {},
     "output_type": "execute_result"
    }
   ],
   "source": [
    "#score on training set and test set to evaluate goodness of fit\n",
    "knn_fit.score(X_train, Y_train), knn_fit.score(X_test, Y_test)"
   ]
  },
  {
   "cell_type": "markdown",
   "metadata": {},
   "source": [
    "Hyperparameter optimization-"
   ]
  },
  {
   "cell_type": "code",
   "execution_count": 103,
   "metadata": {},
   "outputs": [],
   "source": [
    "def k_neighbor(n=(2,3,4,5,6,8,10), max_score_samples=2000):\n",
    "    # The n values can be changed based on the dataset\n",
    "    train_score, test_score = [], []\n",
    "    for n_neighbors in n:\n",
    "        fit = neighbors.KNeighborsRegressor(n_neighbors=n_neighbors, n_jobs=4).fit(X_train, Y_train)\n",
    "        train_score.append(fit.score(X_train[:max_score_samples], Y_train[:max_score_samples]))\n",
    "        test_score.append(fit.score(X_test[:max_score_samples], Y_test[:max_score_samples]))\n",
    "    plt.plot(n, train_score, 'rx-', label='TRAIN')\n",
    "    plt.plot(n, test_score, 'bo-', label='TEST')\n",
    "    plt.xlabel('KNN n_neighbors')\n",
    "    plt.ylabel('KNN $R^2$ score')\n",
    "    plt.legend()"
   ]
  },
  {
   "cell_type": "code",
   "execution_count": 104,
   "metadata": {},
   "outputs": [
    {
     "data": {
      "image/png": "[encoded data removed]",
      "text/plain": [
       "<Figure size 432x288 with 1 Axes>"
      ]
     },
     "metadata": {},
     "output_type": "display_data"
    }
   ],
   "source": [
    "k_neighbor()"
   ]
  },
  {
   "cell_type": "markdown",
   "metadata": {},
   "source": [
    "We noticed that $R^2$ value keeps decreasing with increasing n_neighbors. Looking at the test set, we can say that n_neighbors = 3 will be a good value for this data-set."
   ]
  },
  {
   "cell_type": "markdown",
   "metadata": {},
   "source": [
    "#### Decission Tree Regression"
   ]
  },
  {
   "cell_type": "markdown",
   "metadata": {},
   "source": [
    "We can use a binary decision tree to sort each input sample into a small \"peer group\" with DecisionTreeRegressor. The process is similar to KNN, except now we ask a set of questions to identify the \"peer group\", instead of using nearest neighbors."
   ]
  },
  {
   "cell_type": "code",
   "execution_count": 100,
   "metadata": {},
   "outputs": [],
   "source": [
    "gen = np.random.RandomState(seed=123)\n",
    "tree_fit = tree.DecisionTreeRegressor(random_state=gen).fit(X_train, Y_train)"
   ]
  },
  {
   "cell_type": "code",
   "execution_count": 101,
   "metadata": {},
   "outputs": [
    {
     "data": {
      "text/plain": [
       "(0.9768154752041779, 0.6772837211962308)"
      ]
     },
     "execution_count": 101,
     "metadata": {},
     "output_type": "execute_result"
    }
   ],
   "source": [
    "#Goodness of fit\n",
    "tree_fit.score(X_train, Y_train), tree_fit.score(X_test, Y_test)"
   ]
  },
  {
   "cell_type": "markdown",
   "metadata": {},
   "source": [
    "We see that decision tree regression performs worse than KNN on the test set. This might be telling us something about the distribution in the dataset. Repeating the hyperparamter optimization step:"
   ]
  },
  {
   "cell_type": "code",
   "execution_count": 105,
   "metadata": {},
   "outputs": [],
   "source": [
    "def decision_tree(n=(3, 4, 5, 6, 8, 10, 15, 20, 25, 30, 35), seed=123):\n",
    "    gen = np.random.RandomState(seed)\n",
    "    train_score, test_score = [], []\n",
    "    for max_depth in n:\n",
    "        fit = tree.DecisionTreeRegressor(max_depth=max_depth, random_state=gen).fit(X_train, Y_train)\n",
    "        train_score.append(fit.score(X_train, Y_train))\n",
    "        test_score.append(fit.score(X_test, Y_test))\n",
    "    plt.plot(n, train_score, 'rx-', label='TRAIN')\n",
    "    plt.plot(n, test_score, 'bo-', label='TEST')\n",
    "    plt.xlabel('DecisionTree max_depth')\n",
    "    plt.ylabel('DecisionTree $R^2$ score')\n",
    "    plt.legend()"
   ]
  },
  {
   "cell_type": "code",
   "execution_count": 106,
   "metadata": {},
   "outputs": [
    {
     "data": {
      "image/png": "[encoded data removed]",
      "text/plain": [
       "<Figure size 432x288 with 1 Axes>"
      ]
     },
     "metadata": {},
     "output_type": "display_data"
    }
   ],
   "source": [
    "decision_tree()"
   ]
  },
  {
   "cell_type": "markdown",
   "metadata": {},
   "source": [
    "\n",
    "\n",
    "Looking at the above plot, the best value of max_depth would be 15 to balance overfitting and accuracy.\n",
    "\n",
    "Now we will study which feature is of most importance.\n"
   ]
  },
  {
   "cell_type": "code",
   "execution_count": 107,
   "metadata": {},
   "outputs": [],
   "source": [
    "importance = pd.DataFrame(\n",
    "    {'feature': X.columns, 'importance': tree_fit.feature_importances_}\n",
    ").sort_values(by='importance', ascending=False)"
   ]
  },
  {
   "cell_type": "code",
   "execution_count": 108,
   "metadata": {},
   "outputs": [
    {
     "data": {
      "image/png": "[encoded data removed]",
      "text/plain": [
       "<Figure size 720x720 with 1 Axes>"
      ]
     },
     "metadata": {},
     "output_type": "display_data"
    }
   ],
   "source": [
    "importance.plot('feature', 'importance', 'barh', figsize=(10, 10), legend=False);"
   ]
  },
  {
   "cell_type": "markdown",
   "metadata": {},
   "source": [
    "range_fie turned out to be the most important variable. However, I did not look up what it exactly means (to be edited).Let us retrain using the 10 most important features and look at the score. "
   ]
  },
  {
   "cell_type": "code",
   "execution_count": 109,
   "metadata": {},
   "outputs": [],
   "source": [
    "best_features = importance[:10]['feature']"
   ]
  },
  {
   "cell_type": "code",
   "execution_count": 110,
   "metadata": {},
   "outputs": [
    {
     "data": {
      "text/plain": [
       "(0.9768154752041779, 0.6697174823334697)"
      ]
     },
     "execution_count": 110,
     "metadata": {},
     "output_type": "execute_result"
    }
   ],
   "source": [
    "tree_fit = tree.DecisionTreeRegressor(random_state=gen).fit(X_train[best_features], Y_train)\n",
    "tree_fit.score(X_train[best_features], Y_train), tree_fit.score(X_test[best_features], Y_test)"
   ]
  },
  {
   "cell_type": "markdown",
   "metadata": {},
   "source": [
    "Thus, considering the 10 most important features out of 30 still gives us the same level of accuracy. "
   ]
  },
  {
   "cell_type": "markdown",
   "metadata": {},
   "source": [
    "#### Random Forest Regression"
   ]
  },
  {
   "cell_type": "markdown",
   "metadata": {},
   "source": [
    "Here we use an ensemble of decision trees that are individually less accurate but collectively more accurate, with RandomForestRegressor. The individual trees are trained on random sub-samples of the data and the resulting \"forest\" of predictions are averaged."
   ]
  },
  {
   "cell_type": "code",
   "execution_count": 111,
   "metadata": {},
   "outputs": [],
   "source": [
    "gen = np.random.RandomState(seed=123)\n",
    "forest_fit = ensemble.RandomForestRegressor(\n",
    "    n_estimators=15, max_features=0.5, random_state=gen, n_jobs=4).fit(X_train, Y_train.values.reshape(-1))"
   ]
  },
  {
   "cell_type": "code",
   "execution_count": 112,
   "metadata": {},
   "outputs": [
    {
     "data": {
      "text/plain": [
       "(0.9508750732069445, 0.7840178034429373)"
      ]
     },
     "execution_count": 112,
     "metadata": {},
     "output_type": "execute_result"
    }
   ],
   "source": [
    "#Goodness of fit\n",
    "forest_fit.score(X_train, Y_train), forest_fit.score(X_test, Y_test)"
   ]
  },
  {
   "cell_type": "markdown",
   "metadata": {},
   "source": [
    "Thus, using a random forest instead of a single tree leads to a 0.10 ($~15\\%$) improvement in the $R^2$ value for the test set. We will perform a final hyperparameter optimization,"
   ]
  },
  {
   "cell_type": "code",
   "execution_count": 113,
   "metadata": {},
   "outputs": [],
   "source": [
    "def forest_study(n=(1, 2, 3, 5, 10, 15, 20, 25, 30), seed=123):\n",
    "    gen = np.random.RandomState(seed)\n",
    "    train_score, test_score = [], []\n",
    "    for n_estimators in n:\n",
    "        fit = ensemble.RandomForestRegressor(\n",
    "            n_estimators=n_estimators, max_features=0.5, random_state=gen, n_jobs=4).fit(\n",
    "            X_train, Y_train.values.reshape(-1))\n",
    "        train_score.append(fit.score(X_train, Y_train))\n",
    "        test_score.append(fit.score(X_test, Y_test))\n",
    "    plt.plot(n, train_score, 'rx-', label='TRAIN')\n",
    "    plt.plot(n, test_score, 'bo-', label='TEST')\n",
    "    plt.xlabel('RandomForest n_estimators')\n",
    "    plt.ylabel('RandomForest $R^2$ score')\n",
    "    plt.legend()"
   ]
  },
  {
   "cell_type": "code",
   "execution_count": 114,
   "metadata": {},
   "outputs": [
    {
     "data": {
      "image/png": "[encoded data removed]",
      "text/plain": [
       "<Figure size 432x288 with 1 Axes>"
      ]
     },
     "metadata": {},
     "output_type": "display_data"
    }
   ],
   "source": [
    "forest_study()"
   ]
  },
  {
   "cell_type": "markdown",
   "metadata": {},
   "source": [
    "Hence the optimum value of n-estimator, which refers to the number of trees in the forest, is 25. "
   ]
  },
  {
   "cell_type": "markdown",
   "metadata": {},
   "source": [
    "Now, try changing the size of the training set, the number of features and the features themselves and see how the goodness of fit changes. How accurate k-nearest neighbor will be if we choose a very small data set? The train-test split ratio can also be changed. "
   ]
  },
  {
   "cell_type": "code",
   "execution_count": null,
   "metadata": {},
   "outputs": [],
   "source": []
  }
 ],
 "metadata": {
  "kernelspec": {
   "display_name": "Python 3",
   "language": "python",
   "name": "python3"
  },
  "language_info": {
   "codemirror_mode": {
    "name": "ipython",
    "version": 3
   },
   "file_extension": ".py",
   "mimetype": "text/x-python",
   "name": "python",
   "nbconvert_exporter": "python",
   "pygments_lexer": "ipython3",
   "version": "3.7.3"
  }
 },
 "nbformat": 4,
 "nbformat_minor": 2
}
