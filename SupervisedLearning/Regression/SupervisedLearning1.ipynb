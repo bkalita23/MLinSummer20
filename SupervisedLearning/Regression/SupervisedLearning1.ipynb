{
 "cells": [
  {
   "cell_type": "markdown",
   "metadata": {},
   "source": [
    "## Supervised Learning 1: Linear Regression"
   ]
  },
  {
   "cell_type": "code",
   "execution_count": 1,
   "metadata": {},
   "outputs": [],
   "source": [
    "import numpy as np\n",
    "import matplotlib.pyplot as plt\n",
    "import pandas as pd"
   ]
  },
  {
   "cell_type": "markdown",
   "metadata": {},
   "source": [
    "One of the very first things you might have learnt in your undergraduate Chemistry labs is the Gas laws- Boyle's law, Charles law, Gay-Lussac's law, Avogadro's law, and the ideal gas equation. Let us consider the Gay-Lussac's law. It says at a constant volume, for a given number of moles of a gas, the Pressure of the gas ($P$) is proportional to its absolute Temperature ($T$).\n",
    "$$ P\\varpropto T $$\n",
    "\n",
    "Now, given a few pressure and temperature measurements, can we machine-learn this relation? Let's try. \n",
    "\n",
    "Let us first generate the data for it. We know there exists a linear relationship. We will hand-pick the slope and intercept for this relation. And since experiments always have human errors, we can hardly get a perfect straightline. We will introduce this human error in terms on noise. "
   ]
  },
  {
   "cell_type": "code",
   "execution_count": 2,
   "metadata": {},
   "outputs": [],
   "source": [
    "def GayLussac(m, slope, intercept):\n",
    "    '''\n",
    "    Parameters: \n",
    "    T: Temperature in K; P: Pressure in kPa; m: No. of data Points; slope; intercept; noise\n",
    "    The noise is selected randomly from a normal distribution.\n",
    "    Returns:\n",
    "    m number of P,T pairs with P = slope*T +intercept + noise\n",
    "    '''\n",
    "    np.random.seed(123)\n",
    "    T = np.random.uniform(200,3000, m)\n",
    "    T.sort()\n",
    "    noise = np.random.normal(0, 100, m) \n",
    "    P = slope * T + intercept + noise\n",
    "    T = T.reshape(m,1)\n",
    "    P = P.reshape(m,1)\n",
    "    return T,P, noise"
   ]
  },
  {
   "cell_type": "markdown",
   "metadata": {},
   "source": [
    "For any volume, the Presuse is supposed to go to $0$ at $0 K$. But we are just playing around here. So you can change no. of data points, the slope, the intercept while calling the function, and the temperature limits, and the normal distribution limit for the noise inside the function to generate the dataset of your choice."
   ]
  },
  {
   "cell_type": "code",
   "execution_count": 3,
   "metadata": {},
   "outputs": [
    {
     "data": {
      "text/html": [
       "<div>\n",
       "<style scoped>\n",
       "    .dataframe tbody tr th:only-of-type {\n",
       "        vertical-align: middle;\n",
       "    }\n",
       "\n",
       "    .dataframe tbody tr th {\n",
       "        vertical-align: top;\n",
       "    }\n",
       "\n",
       "    .dataframe thead th {\n",
       "        text-align: right;\n",
       "    }\n",
       "</style>\n",
       "<table border=\"1\" class=\"dataframe\">\n",
       "  <thead>\n",
       "    <tr style=\"text-align: right;\">\n",
       "      <th></th>\n",
       "      <th>Temperature</th>\n",
       "      <th>Pressure</th>\n",
       "    </tr>\n",
       "  </thead>\n",
       "  <tbody>\n",
       "    <tr>\n",
       "      <th>0</th>\n",
       "      <td>367.098111</td>\n",
       "      <td>577.732933</td>\n",
       "    </tr>\n",
       "    <tr>\n",
       "      <th>1</th>\n",
       "      <td>691.264917</td>\n",
       "      <td>937.363032</td>\n",
       "    </tr>\n",
       "    <tr>\n",
       "      <th>2</th>\n",
       "      <td>710.976845</td>\n",
       "      <td>998.106756</td>\n",
       "    </tr>\n",
       "    <tr>\n",
       "      <th>3</th>\n",
       "      <td>835.184070</td>\n",
       "      <td>1234.912494</td>\n",
       "    </tr>\n",
       "    <tr>\n",
       "      <th>4</th>\n",
       "      <td>1001.190138</td>\n",
       "      <td>1208.063792</td>\n",
       "    </tr>\n",
       "    <tr>\n",
       "      <th>5</th>\n",
       "      <td>1160.898445</td>\n",
       "      <td>1626.850883</td>\n",
       "    </tr>\n",
       "    <tr>\n",
       "      <th>6</th>\n",
       "      <td>1297.929051</td>\n",
       "      <td>1562.019699</td>\n",
       "    </tr>\n",
       "    <tr>\n",
       "      <th>7</th>\n",
       "      <td>1314.523915</td>\n",
       "      <td>1645.205939</td>\n",
       "    </tr>\n",
       "    <tr>\n",
       "      <th>8</th>\n",
       "      <td>1384.698088</td>\n",
       "      <td>1890.918034</td>\n",
       "    </tr>\n",
       "    <tr>\n",
       "      <th>9</th>\n",
       "      <td>1428.002285</td>\n",
       "      <td>1713.634901</td>\n",
       "    </tr>\n",
       "  </tbody>\n",
       "</table>\n",
       "</div>"
      ],
      "text/plain": [
       "   Temperature     Pressure\n",
       "0   367.098111   577.732933\n",
       "1   691.264917   937.363032\n",
       "2   710.976845   998.106756\n",
       "3   835.184070  1234.912494\n",
       "4  1001.190138  1208.063792\n",
       "5  1160.898445  1626.850883\n",
       "6  1297.929051  1562.019699\n",
       "7  1314.523915  1645.205939\n",
       "8  1384.698088  1890.918034\n",
       "9  1428.002285  1713.634901"
      ]
     },
     "execution_count": 3,
     "metadata": {},
     "output_type": "execute_result"
    }
   ],
   "source": [
    "slope = 1.3\n",
    "intercept = 0.10\n",
    "T,P, noise = GayLussac(20,slope,intercept)\n",
    "d = {'Temperature': T[:,0], 'Pressure': P[:,0]}\n",
    "df = pd.DataFrame(data=d)\n",
    "df.iloc[:10] #only first 10 data are shown"
   ]
  },
  {
   "cell_type": "markdown",
   "metadata": {},
   "source": [
    "<span style=\"color:red\">Try calling df.describe() and see what you can learn about the data</span>\n"
   ]
  },
  {
   "cell_type": "code",
   "execution_count": 4,
   "metadata": {},
   "outputs": [
    {
     "data": {
      "image/png": "[encoded data removed]",
      "text/plain": [
       "<Figure size 432x288 with 1 Axes>"
      ]
     },
     "metadata": {
      "needs_background": "light"
     },
     "output_type": "display_data"
    }
   ],
   "source": [
    "plt.scatter(T,P)\n",
    "plt.xlabel('$Temperature (K)$')\n",
    "plt.ylabel('$Pressure (kPa)$')\n",
    "plt.title(\"Gay-Lussac Law\")\n",
    "plt.show()"
   ]
  },
  {
   "cell_type": "markdown",
   "metadata": {},
   "source": [
    "In reality, we do not know the values of the slope and the intercept for the problem under study. The next step is to predict $P$ given $T$ by learning the $P-T$ relationship using ML. The $P-T$ curve is a straight line and a simple linear regression task using the [LinearRegression](https://scikit-learn.org/stable/modules/generated/sklearn.linear_model.LinearRegression.html) function in the scikit-learn library can give you the desired fit.\n",
    " \n",
    " "
   ]
  },
  {
   "cell_type": "code",
   "execution_count": 5,
   "metadata": {},
   "outputs": [
    {
     "name": "stdout",
     "output_type": "stream",
     "text": [
      "Coefficient: \n",
      " [[1.2585773]]\n",
      "Intercept:\n",
      "  [45.69461971]\n"
     ]
    }
   ],
   "source": [
    "from sklearn import linear_model\n",
    "m = len(P)\n",
    "fit = linear_model.LinearRegression(fit_intercept=True).fit(T,P)\n",
    "w = fit.coef_\n",
    "b = fit.intercept_\n",
    "print('Coefficient: \\n', w)\n",
    "print('Intercept:\\n ', b)"
   ]
  },
  {
   "cell_type": "code",
   "execution_count": 6,
   "metadata": {},
   "outputs": [
    {
     "data": {
      "image/png": "[encoded data removed]",
      "text/plain": [
       "<Figure size 432x288 with 1 Axes>"
      ]
     },
     "metadata": {
      "needs_background": "light"
     },
     "output_type": "display_data"
    }
   ],
   "source": [
    "plt.scatter(T, P, label='train')\n",
    "plt.plot(T, T.dot(w) + b, 'r-', lw=2.0, alpha=0.5, label='fit')\n",
    "plt.plot(T, T.dot(slope) + intercept, 'b-', lw=2.0, alpha=0.5, label='original')\n",
    "plt.xlabel('$Temperature (K)$')\n",
    "plt.ylabel('$Pressure (kPa)$')\n",
    "plt.legend()\n",
    "plt.title(\"Gay-Lussac Law fit\")\n",
    "plt.show()"
   ]
  },
  {
   "cell_type": "markdown",
   "metadata": {},
   "source": [
    "The linear-regression parameters 𝑤 and 𝑏 do not coincide with the originally specified slope and intercept and such variation is expected based on the data. For a considerable large dataset,the noise will average out, and the predicted $w$ and $b$ will be very close to the exact ones. Now we will evaluate the performance of this model based on the noise. "
   ]
  },
  {
   "cell_type": "code",
   "execution_count": 7,
   "metadata": {},
   "outputs": [
    {
     "name": "stdout",
     "output_type": "stream",
     "text": [
      "Mean squared error: 11312.20\n",
      "r_2 statistic: 0.98\n",
      "Mean absolute error: 87.70\n"
     ]
    }
   ],
   "source": [
    "from sklearn.metrics import mean_squared_error, r2_score, mean_absolute_error\n",
    "m = len(P)\n",
    "P_pred = fit.predict(T)\n",
    "print(\"Mean squared error: %.2f\"\n",
    "      % mean_squared_error(P, P_pred))\n",
    "print('r_2 statistic: %.2f' % r2_score(P, P_pred))\n",
    "print(\"Mean absolute error: %.2f\"\n",
    "      % mean_absolute_error(P, P_pred))"
   ]
  },
  {
   "cell_type": "markdown",
   "metadata": {},
   "source": [
    "In the plot above, we have used all the data we have about $P$ and $T$ to determine the relationship between the two. In other words, the whole set is used as the training set. Now if you are given a different $T$ value in the range $200 K< T < 3000 K$, can you predict the pressure at that $T$ for the same ideal gas with same no. of moles and constant volume?\n",
    "\n",
    "This is an example of univariate linear regression where the number of features (usually specified by $n$) is just 1 ($T$ in this case). If we had a non-linear dependence of $P$ on $T$, then we will require to perform a polynomial regression ($P = aT + bT^2 +c$ etc.)."
   ]
  }
 ],
 "metadata": {
  "kernelspec": {
   "display_name": "Python 3",
   "language": "python",
   "name": "python3"
  },
  "language_info": {
   "codemirror_mode": {
    "name": "ipython",
    "version": 3
   },
   "file_extension": ".py",
   "mimetype": "text/x-python",
   "name": "python",
   "nbconvert_exporter": "python",
   "pygments_lexer": "ipython3",
   "version": "3.7.3"
  }
 },
 "nbformat": 4,
 "nbformat_minor": 2
}
